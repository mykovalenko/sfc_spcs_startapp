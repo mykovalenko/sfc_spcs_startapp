{
 "cells": [
  {
   "cell_type": "code",
   "execution_count": null,
   "id": "8d50cbf4-0c8d-4950-86cb-114990437ac9",
   "metadata": {
    "language": "sql",
    "name": "Context"
   },
   "outputs": [],
   "source": [
    "SET TARGET_DATABASE   = '&{ dbsname }';\n",
    "SET DEPLOY_SCHEMA     = '&{ depname }';\n",
    "SET DEPLOY_ROLE_OWNER = 'APP_&{ depname }_OWNER';\n",
    "SET APP_ROLE_TYPE_01  = 'APP_&{ depname }_ROL01';\n",
    "SET APP_ROLE_TYPE_02  = 'APP_&{ depname }_ROL02';\n",
    "SET APP_NB_CONTROL    = 'APP_&{ depname }_CONTROL';\n",
    "SET SERVICE_NAME      = 'APP_&{ depname }_SVC';\n",
    "SET SERVICE_RUN_USER  = 'APP_&{ depname }_USER';\n",
    "SET SERVICE_RUN_POOL  = 'APP_&{ depname }_POOL';\n",
    "SET SERVICE_RUN_VWHS  = 'APP_&{ depname }_WH';\n",
    "SET EXT_ACC_INT_NAME  = 'APP_&{ depname }_EXASINT';\n",
    "SET EXT_ACC_NET_RULE  = 'APP_&{ depname }_NETRULE';\n",
    "SET SERVICE_REF       = 'app-&{ depname }';\n",
    "\n",
    "SELECT * FROM (VALUES \n",
    "\t ('TARGET_DATABASE:    [' || $TARGET_DATABASE   ||']')\n",
    "\t,('DEPLOY_SCHEMA:      [' || $DEPLOY_SCHEMA     ||']')\n",
    "\t,('DEPLOY_ROLE_OWNER:  [' || $DEPLOY_ROLE_OWNER ||']')\n",
    "\t,('APP_ROLE_TYPE_01:   [' || $APP_ROLE_TYPE_01  ||']')\n",
    "\t,('APP_ROLE_TYPE_02:   [' || $APP_ROLE_TYPE_02  ||']')\n",
    "\t,('APP_NB_CONTROL:     [' || $APP_NB_CONTROL    ||']')\n",
    "\t,('SERVICE_NAME:       [' || $SERVICE_NAME      ||']')\n",
    "\t,('SERVICE_RUN_USER:   [' || $SERVICE_RUN_USER  ||']')\n",
    "\t,('SERVICE_RUN_POOL:   [' || $SERVICE_RUN_POOL  ||']')\n",
    "\t,('SERVICE_RUN_VWHS:   [' || $SERVICE_RUN_VWHS  ||']')\n",
    "\t,('EXT_ACC_INT_NAME:   [' || $EXT_ACC_INT_NAME  ||']')\n",
    "\t,('EXT_ACC_NET_RULE:   [' || $EXT_ACC_NET_RULE  ||']')\n",
    "\t,('SERVICE_REF:        [' || $SERVICE_REF       ||']')\n",
    ") AS t (VARS)"
   ]
  },
  {
   "cell_type": "code",
   "execution_count": null,
   "id": "445b6396-8418-4a95-817e-c0eb0fee3b88",
   "metadata": {
    "codeCollapsed": false,
    "language": "sql",
    "name": "Uninstall"
   },
   "outputs": [],
   "source": [
    "/*\n",
    "USE ROLE ACCOUNTADMIN;\n",
    "USE DATABASE IDENTIFIER($TARGET_DATABASE);\n",
    "\n",
    "CREATE SCHEMA IF NOT EXISTS IDENTIFIER($DEPLOY_SCHEMA);\n",
    "USE SCHEMA IDENTIFIER($DEPLOY_SCHEMA);\n",
    "\n",
    "DROP USER IF EXISTS IDENTIFIER($SERVICE_RUN_USER);\n",
    "DROP ROLE IF EXISTS IDENTIFIER($DEPLOY_ROLE_OWNER);\n",
    "DROP ROLE IF EXISTS IDENTIFIER($APP_ROLE_TYPE_01);\n",
    "\n",
    "DROP NOTEBOOK IF EXISTS IDENTIFIER($APP_NB_CONTROL);\n",
    "\n",
    "ALTER SERVICE IF EXISTS IDENTIFIER($SERVICE_NAME) SUSPEND;\n",
    "DROP SERVICE IF EXISTS IDENTIFIER($SERVICE_NAME) FORCE;\n",
    "\n",
    "ALTER COMPUTE POOL IF EXISTS IDENTIFIER($SERVICE_RUN_POOL) SUSPEND;\n",
    "DROP COMPUTE POOL IF EXISTS IDENTIFIER($SERVICE_RUN_POOL);\n",
    "\n",
    "DROP WAREHOUSE IF EXISTS IDENTIFIER($SERVICE_RUN_VWHS);\n",
    "\n",
    "DROP EXTERNAL ACCESS INTEGRATION IF EXISTS IDENTIFIER($EXT_ACC_INT_NAME);\n",
    "DROP NETWORK RULE IF EXISTS IDENTIFIER($EXT_ACC_NET_RULE);\n",
    "\n",
    "DROP SCHEMA IF EXISTS IDENTIFIER($DEPLOY_SCHEMA);\n",
    "*/"
   ]
  },
  {
   "cell_type": "code",
   "execution_count": null,
   "id": "200b0da5-f42e-4701-9040-bbdd7462cb8b",
   "metadata": {
    "language": "sql",
    "name": "Suspend"
   },
   "outputs": [],
   "source": [
    "USE ROLE IDENTIFIER($DEPLOY_ROLE_OWNER);\n",
    "\n",
    "USE DATABASE IDENTIFIER($TARGET_DATABASE);\n",
    "USE SCHEMA IDENTIFIER($DEPLOY_SCHEMA);\n",
    "USE WAREHOUSE IDENTIFIER($SERVICE_RUN_VWHS);\n",
    "\n",
    "ALTER SERVICE IF EXISTS IDENTIFIER($SERVICE_NAME) SUSPEND;\n",
    "ALTER COMPUTE POOL IF EXISTS IDENTIFIER($SERVICE_RUN_POOL) SUSPEND;\n",
    "ALTER WAREHOUSE IF EXISTS IDENTIFIER($SERVICE_RUN_VWHS) SUSPEND;"
   ]
  },
  {
   "cell_type": "code",
   "execution_count": null,
   "id": "6b7c9d15-8c82-48c7-a53f-2a057926bd21",
   "metadata": {
    "language": "sql",
    "name": "Resume"
   },
   "outputs": [],
   "source": [
    "USE ROLE IDENTIFIER($DEPLOY_ROLE_OWNER);\n",
    "\n",
    "USE DATABASE IDENTIFIER($TARGET_DATABASE);\n",
    "USE SCHEMA IDENTIFIER($DEPLOY_SCHEMA);\n",
    "USE WAREHOUSE IDENTIFIER($SERVICE_RUN_VWHS);\n",
    "\n",
    "ALTER WAREHOUSE IF EXISTS IDENTIFIER($SERVICE_RUN_VWHS) RESUME IF SUSPENDED;\n",
    "ALTER COMPUTE POOL IF EXISTS IDENTIFIER($SERVICE_RUN_POOL) RESUME;\n",
    "ALTER SERVICE IF EXISTS IDENTIFIER($SERVICE_NAME) RESUME;"
   ]
  },
  {
   "cell_type": "code",
   "execution_count": null,
   "id": "2f9c0702-a37a-489d-a8ed-0d93edeb87e0",
   "metadata": {
    "language": "sql",
    "name": "Logs"
   },
   "outputs": [],
   "source": [
    "USE ROLE IDENTIFIER($DEPLOY_ROLE_OWNER);\n",
    "\n",
    "USE DATABASE IDENTIFIER($TARGET_DATABASE);\n",
    "USE SCHEMA IDENTIFIER($DEPLOY_SCHEMA);\n",
    "USE WAREHOUSE IDENTIFIER($SERVICE_RUN_VWHS);\n",
    "-- show service deployment specs\n",
    "SELECT $1 from @SPECS/service.yaml; \n",
    "-- show all services\n",
    "SHOW SERVICES;\n",
    "-- check the status of service\n",
    "CALL SYSTEM$GET_SERVICE_STATUS($SERVICE_NAME);\n",
    "-- check the logs in the docker containers\n",
    "CALL SYSTEM$GET_SERVICE_LOGS($SERVICE_NAME, '0', $SERVICE_REF, 1000);\n",
    "-- check service containers\n",
    "SHOW SERVICE CONTAINERS IN SERVICE IDENTIFIER($SERVICE_NAME);\n",
    "-- check service endpoints\n",
    "SHOW ENDPOINTS IN SERVICE IDENTIFIER($SERVICE_NAME);"
   ]
  }
 ],
 "metadata": {
  "kernelspec": {
   "display_name": "Streamlit Notebook",
   "name": "streamlit"
  }
 },
 "nbformat": 4,
 "nbformat_minor": 5
}
